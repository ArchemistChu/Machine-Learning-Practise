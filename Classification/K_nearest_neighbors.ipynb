{
 "cells": [
  {
   "cell_type": "markdown",
   "metadata": {},
   "source": []
  },
  {
   "cell_type": "code",
   "execution_count": 1,
   "metadata": {},
   "outputs": [],
   "source": [
    "import numpy as np\n",
    "def create_data():\n",
    "    features = np.array(\n",
    "        [\n",
    "            [2.88, 3.05],\n",
    "            [3.1, 2.45],\n",
    "            [3.05, 2.8],\n",
    "            [2.9, 2.7],\n",
    "            [2.75, 3.4],\n",
    "            [3.23, 2.9],\n",
    "            [3.2, 3.75],\n",
    "            [3.5, 2.9],\n",
    "            [3.65, 3.6],\n",
    "            [3.35, 3.3],\n",
    "        ]\n",
    "    )\n",
    "    labels = [\"A\", \"A\", \"A\", \"A\", \"A\", \"B\", \"B\", \"B\", \"B\", \"B\"]\n",
    "    return features, labels"
   ]
  },
  {
   "cell_type": "code",
   "execution_count": 2,
   "metadata": {},
   "outputs": [
    {
     "name": "stdout",
     "output_type": "stream",
     "text": [
      "features: \n",
      " [[2.88 3.05]\n",
      " [3.1  2.45]\n",
      " [3.05 2.8 ]\n",
      " [2.9  2.7 ]\n",
      " [2.75 3.4 ]\n",
      " [3.23 2.9 ]\n",
      " [3.2  3.75]\n",
      " [3.5  2.9 ]\n",
      " [3.65 3.6 ]\n",
      " [3.35 3.3 ]]\n",
      "labels: \n",
      " ['A', 'A', 'A', 'A', 'A', 'B', 'B', 'B', 'B', 'B']\n"
     ]
    }
   ],
   "source": [
    "features,labels = create_data()\n",
    "print(\"features: \\n\",features)\n",
    "print(\"labels: \\n\",labels)"
   ]
  },
  {
   "cell_type": "code",
   "execution_count": 4,
   "metadata": {},
   "outputs": [
    {
     "data": {
      "text/plain": [
       "<matplotlib.collections.PathCollection at 0x1be35887dc0>"
      ]
     },
     "execution_count": 4,
     "metadata": {},
     "output_type": "execute_result"
    },
    {
     "data": {
      "image/png": "[encoded data removed]",
      "text/plain": [
       "<Figure size 500x500 with 1 Axes>"
      ]
     },
     "metadata": {},
     "output_type": "display_data"
    }
   ],
   "source": [
    "from matplotlib import pyplot as plt\n",
    "%matplotlib inline\n",
    "plt.figure(figsize=(5,5))\n",
    "plt.xlim((2.4,3.8))\n",
    "plt.ylim((2.4,3.8))\n",
    "\n",
    "x_feature = list(map(lambda x:x[0],features))\n",
    "y_feature = list(map(lambda y:y[1],features))\n",
    "\n",
    "plt.scatter(x_feature[:5], y_feature[:5], c=\"b\") \n",
    "plt.scatter(x_feature[5:], y_feature[5:], c=\"g\")\n",
    "plt.scatter([3.18], [3.15], c=\"r\", marker=\"x\")"
   ]
  },
  {
   "cell_type": "markdown",
   "metadata": {},
   "source": [
    "Calculate distance:\n",
    "Manhattion distance & Euclidean disatance"
   ]
  },
  {
   "cell_type": "code",
   "execution_count": 5,
   "metadata": {},
   "outputs": [],
   "source": [
    "def manh_d(x,y):\n",
    "    d = np.sum(np.abs(x-y))\n",
    "    return d\n",
    "\n",
    "def euc_d(x,y):\n",
    "    d = np.sqrt(np.sum(np.square(x-y)))\n",
    "    return d"
   ]
  },
  {
   "cell_type": "code",
   "execution_count": 6,
   "metadata": {},
   "outputs": [
    {
     "data": {
      "text/plain": [
       "[('C', 6), ('D', 5), ('A', 3), ('B', 2)]"
      ]
     },
     "execution_count": 6,
     "metadata": {},
     "output_type": "execute_result"
    }
   ],
   "source": [
    "import operator\n",
    "\n",
    "def majority_voting(class_count):\n",
    "    sorted_class_count = sorted(class_count.items(), \n",
    "                                key=operator.itemgetter(1), reverse=True\n",
    "    )\n",
    "    return sorted_class_count\n",
    "arr = {\"A\": 3, \"B\": 2, \"C\": 6, \"D\": 5}\n",
    "majority_voting(arr)"
   ]
  },
  {
   "cell_type": "code",
   "execution_count": 9,
   "metadata": {},
   "outputs": [],
   "source": [
    "def knn_classify(test_data,train_data,labels,k):\n",
    "    distances = [euc_d(test_data,train_data[i]) for i in range(len(train_data))]\n",
    "    sorted_indices = np.argsort(distances)\n",
    "    sorted_distance = np.sort(distances)\n",
    "    \n",
    "    class_count = {}\n",
    "    for i in range(k):\n",
    "        label = labels[sorted_indices[i]]\n",
    "        class_count[label] = class_count.get(label,0) + 1\n",
    "    final_label = majority_voting(class_count)\n",
    "    return final_label,r"
   ]
  },
  {
   "cell_type": "code",
   "execution_count": 10,
   "metadata": {},
   "outputs": [
    {
     "data": {
      "text/plain": [
       "[('B', 3), ('A', 2)]"
      ]
     },
     "execution_count": 10,
     "metadata": {},
     "output_type": "execute_result"
    }
   ],
   "source": [
    "test_data = np.array([3.18, 3.15])\n",
    "final_label, r = knn_classify(test_data, features, labels, 5)\n",
    "final_label"
   ]
  },
  {
   "cell_type": "code",
   "execution_count": 11,
   "metadata": {},
   "outputs": [],
   "source": [
    "def circle(r,a,b):\n",
    "    theta = np.arange(0,2*np.pi,0.01)\n",
    "    x = a + r * np.cos(theta)\n",
    "    y = b + r * np.sin(theta)\n",
    "    return x,y"
   ]
  },
  {
   "cell_type": "code",
   "execution_count": null,
   "metadata": {},
   "outputs": [],
   "source": []
  }
 ],
 "metadata": {
  "kernelspec": {
   "display_name": "Python 3",
   "language": "python",
   "name": "python3"
  },
  "language_info": {
   "codemirror_mode": {
    "name": "ipython",
    "version": 3
   },
   "file_extension": ".py",
   "mimetype": "text/x-python",
   "name": "python",
   "nbconvert_exporter": "python",
   "pygments_lexer": "ipython3",
   "version": "3.10.8"
  }
 },
 "nbformat": 4,
 "nbformat_minor": 2
}
