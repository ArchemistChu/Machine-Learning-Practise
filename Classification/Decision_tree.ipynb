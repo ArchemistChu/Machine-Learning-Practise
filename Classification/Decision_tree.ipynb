{
 "cells": [
  {
   "cell_type": "markdown",
   "metadata": {},
   "source": []
  },
  {
   "cell_type": "code",
   "execution_count": 3,
   "metadata": {},
   "outputs": [],
   "source": [
    "import numpy as np\n",
    "import pandas as pd\n",
    "\n",
    "\n",
    "def create_data():\n",
    "    data_value = np.array(\n",
    "        [\n",
    "            [\"long\", \"thick\", 175, \"no\", \"man\"],\n",
    "            [\"short\", \"medium\", 168, \"no\", \"man\"],\n",
    "            [\"short\", \"thin\", 178, \"yes\", \"man\"],\n",
    "            [\"short\", \"thick\", 172, \"no\", \"man\"],\n",
    "            [\"long\", \"medium\", 163, \"no\", \"man\"],\n",
    "            [\"short\", \"thick\", 180, \"no\", \"man\"],\n",
    "            [\"long\", \"thick\", 173, \"yes\", \"man\"],\n",
    "            [\"short\", \"thin\", 174, \"no\", \"man\"],\n",
    "            [\"long\", \"thin\", 164, \"yes\", \"woman\"],\n",
    "            [\"long\", \"medium\", 158, \"yes\", \"woman\"],\n",
    "            [\"long\", \"thick\", 161, \"yes\", \"woman\"],\n",
    "            [\"short\", \"thin\", 166, \"yes\", \"woman\"],\n",
    "            [\"long\", \"thin\", 158, \"no\", \"woman\"],\n",
    "            [\"short\", \"medium\", 163, \"no\", \"woman\"],\n",
    "            [\"long\", \"thick\", 161, \"yes\", \"woman\"],\n",
    "            [\"long\", \"thin\", 164, \"no\", \"woman\"],\n",
    "            [\"short\", \"medium\", 172, \"yes\", \"woman\"],\n",
    "        ]\n",
    "    )\n",
    "    columns = np.array([\"hair\", \"voice\", \"height\", \"ear_stud\", \"labels\"])\n",
    "    data = pd.DataFrame(data_value.reshape(17, 5), columns=columns)\n",
    "    return data"
   ]
  },
  {
   "cell_type": "code",
   "execution_count": 4,
   "metadata": {},
   "outputs": [
    {
     "data": {
      "text/html": [
       "<div>\n",
       "<style scoped>\n",
       "    .dataframe tbody tr th:only-of-type {\n",
       "        vertical-align: middle;\n",
       "    }\n",
       "\n",
       "    .dataframe tbody tr th {\n",
       "        vertical-align: top;\n",
       "    }\n",
       "\n",
       "    .dataframe thead th {\n",
       "        text-align: right;\n",
       "    }\n",
       "</style>\n",
       "<table border=\"1\" class=\"dataframe\">\n",
       "  <thead>\n",
       "    <tr style=\"text-align: right;\">\n",
       "      <th></th>\n",
       "      <th>hair</th>\n",
       "      <th>voice</th>\n",
       "      <th>height</th>\n",
       "      <th>ear_stud</th>\n",
       "      <th>labels</th>\n",
       "    </tr>\n",
       "  </thead>\n",
       "  <tbody>\n",
       "    <tr>\n",
       "      <th>0</th>\n",
       "      <td>long</td>\n",
       "      <td>thick</td>\n",
       "      <td>175</td>\n",
       "      <td>no</td>\n",
       "      <td>man</td>\n",
       "    </tr>\n",
       "    <tr>\n",
       "      <th>1</th>\n",
       "      <td>short</td>\n",
       "      <td>medium</td>\n",
       "      <td>168</td>\n",
       "      <td>no</td>\n",
       "      <td>man</td>\n",
       "    </tr>\n",
       "    <tr>\n",
       "      <th>2</th>\n",
       "      <td>short</td>\n",
       "      <td>thin</td>\n",
       "      <td>178</td>\n",
       "      <td>yes</td>\n",
       "      <td>man</td>\n",
       "    </tr>\n",
       "    <tr>\n",
       "      <th>3</th>\n",
       "      <td>short</td>\n",
       "      <td>thick</td>\n",
       "      <td>172</td>\n",
       "      <td>no</td>\n",
       "      <td>man</td>\n",
       "    </tr>\n",
       "    <tr>\n",
       "      <th>4</th>\n",
       "      <td>long</td>\n",
       "      <td>medium</td>\n",
       "      <td>163</td>\n",
       "      <td>no</td>\n",
       "      <td>man</td>\n",
       "    </tr>\n",
       "    <tr>\n",
       "      <th>5</th>\n",
       "      <td>short</td>\n",
       "      <td>thick</td>\n",
       "      <td>180</td>\n",
       "      <td>no</td>\n",
       "      <td>man</td>\n",
       "    </tr>\n",
       "    <tr>\n",
       "      <th>6</th>\n",
       "      <td>long</td>\n",
       "      <td>thick</td>\n",
       "      <td>173</td>\n",
       "      <td>yes</td>\n",
       "      <td>man</td>\n",
       "    </tr>\n",
       "    <tr>\n",
       "      <th>7</th>\n",
       "      <td>short</td>\n",
       "      <td>thin</td>\n",
       "      <td>174</td>\n",
       "      <td>no</td>\n",
       "      <td>man</td>\n",
       "    </tr>\n",
       "    <tr>\n",
       "      <th>8</th>\n",
       "      <td>long</td>\n",
       "      <td>thin</td>\n",
       "      <td>164</td>\n",
       "      <td>yes</td>\n",
       "      <td>woman</td>\n",
       "    </tr>\n",
       "    <tr>\n",
       "      <th>9</th>\n",
       "      <td>long</td>\n",
       "      <td>medium</td>\n",
       "      <td>158</td>\n",
       "      <td>yes</td>\n",
       "      <td>woman</td>\n",
       "    </tr>\n",
       "    <tr>\n",
       "      <th>10</th>\n",
       "      <td>long</td>\n",
       "      <td>thick</td>\n",
       "      <td>161</td>\n",
       "      <td>yes</td>\n",
       "      <td>woman</td>\n",
       "    </tr>\n",
       "    <tr>\n",
       "      <th>11</th>\n",
       "      <td>short</td>\n",
       "      <td>thin</td>\n",
       "      <td>166</td>\n",
       "      <td>yes</td>\n",
       "      <td>woman</td>\n",
       "    </tr>\n",
       "    <tr>\n",
       "      <th>12</th>\n",
       "      <td>long</td>\n",
       "      <td>thin</td>\n",
       "      <td>158</td>\n",
       "      <td>no</td>\n",
       "      <td>woman</td>\n",
       "    </tr>\n",
       "    <tr>\n",
       "      <th>13</th>\n",
       "      <td>short</td>\n",
       "      <td>medium</td>\n",
       "      <td>163</td>\n",
       "      <td>no</td>\n",
       "      <td>woman</td>\n",
       "    </tr>\n",
       "    <tr>\n",
       "      <th>14</th>\n",
       "      <td>long</td>\n",
       "      <td>thick</td>\n",
       "      <td>161</td>\n",
       "      <td>yes</td>\n",
       "      <td>woman</td>\n",
       "    </tr>\n",
       "    <tr>\n",
       "      <th>15</th>\n",
       "      <td>long</td>\n",
       "      <td>thin</td>\n",
       "      <td>164</td>\n",
       "      <td>no</td>\n",
       "      <td>woman</td>\n",
       "    </tr>\n",
       "    <tr>\n",
       "      <th>16</th>\n",
       "      <td>short</td>\n",
       "      <td>medium</td>\n",
       "      <td>172</td>\n",
       "      <td>yes</td>\n",
       "      <td>woman</td>\n",
       "    </tr>\n",
       "  </tbody>\n",
       "</table>\n",
       "</div>"
      ],
      "text/plain": [
       "     hair   voice height ear_stud labels\n",
       "0    long   thick    175       no    man\n",
       "1   short  medium    168       no    man\n",
       "2   short    thin    178      yes    man\n",
       "3   short   thick    172       no    man\n",
       "4    long  medium    163       no    man\n",
       "5   short   thick    180       no    man\n",
       "6    long   thick    173      yes    man\n",
       "7   short    thin    174       no    man\n",
       "8    long    thin    164      yes  woman\n",
       "9    long  medium    158      yes  woman\n",
       "10   long   thick    161      yes  woman\n",
       "11  short    thin    166      yes  woman\n",
       "12   long    thin    158       no  woman\n",
       "13  short  medium    163       no  woman\n",
       "14   long   thick    161      yes  woman\n",
       "15   long    thin    164       no  woman\n",
       "16  short  medium    172      yes  woman"
      ]
     },
     "execution_count": 4,
     "metadata": {},
     "output_type": "execute_result"
    }
   ],
   "source": [
    "data = create_data()\n",
    "data"
   ]
  },
  {
   "cell_type": "code",
   "execution_count": 5,
   "metadata": {},
   "outputs": [],
   "source": [
    "import math\n",
    "\n",
    "\n",
    "def get_Ent(data):\n",
    "\n",
    "    num_sample = len(data)  \n",
    "    label_counts = {}  \n",
    "    for i in range(num_sample):\n",
    "        each_data = data.iloc[i, :]\n",
    "        current_label = each_data[\"labels\"] \n",
    "\n",
    "        if current_label not in label_counts.keys():\n",
    "            label_counts[current_label] = 0\n",
    "        label_counts[current_label] += 1\n",
    "\n",
    "    Ent = 0.0  \n",
    "    for key in label_counts:\n",
    "        prob = float(label_counts[key]) / num_sample\n",
    "        Ent -= prob * math.log(prob, 2) \n",
    "    return Ent"
   ]
  },
  {
   "cell_type": "code",
   "execution_count": 6,
   "metadata": {},
   "outputs": [
    {
     "data": {
      "text/plain": [
       "0.9975025463691153"
      ]
     },
     "execution_count": 6,
     "metadata": {},
     "output_type": "execute_result"
    }
   ],
   "source": [
    "base_ent = get_Ent(data)\n",
    "base_ent"
   ]
  },
  {
   "cell_type": "markdown",
   "metadata": {},
   "source": []
  },
  {
   "cell_type": "code",
   "execution_count": 7,
   "metadata": {},
   "outputs": [],
   "source": [
    "def get_gain(data, base_ent, feature):\n",
    "\n",
    "    feature_list = data[feature]   \n",
    "    unique_value = set(feature_list)  \n",
    "    feature_ent = 0.0\n",
    "\n",
    "    for each_feature in unique_value:\n",
    "        temp_data = data[data[feature] == each_feature]\n",
    "        weight = len(temp_data) / len(feature_list)   \n",
    "        temp_ent = weight * get_Ent(temp_data)\n",
    "        feature_ent = feature_ent + temp_ent\n",
    "\n",
    "    gain = base_ent - feature_ent  \n",
    "    return gain"
   ]
  },
  {
   "cell_type": "code",
   "execution_count": 8,
   "metadata": {},
   "outputs": [
    {
     "data": {
      "text/plain": [
       "0.062200515199107964"
      ]
     },
     "execution_count": 8,
     "metadata": {},
     "output_type": "execute_result"
    }
   ],
   "source": [
    "get_gain(data, base_ent, \"hair\")"
   ]
  },
  {
   "cell_type": "markdown",
   "metadata": {},
   "source": [
    "The consistent value"
   ]
  },
  {
   "cell_type": "code",
   "execution_count": 9,
   "metadata": {},
   "outputs": [],
   "source": [
    "def get_splitpoint(data, base_ent, feature):\n",
    "    #sort the continues value and turn it to float type\n",
    "    continues_value = data[feature].sort_values().astype(np.float64)\n",
    "    continues_value = [i for i in continues_value]  # delete the index\n",
    "    t_set = []\n",
    "    t_ent = {}\n",
    "\n",
    "\n",
    "    for i in range(len(continues_value) - 1):\n",
    "        temp_t = (continues_value[i] + continues_value[i + 1]) / 2\n",
    "        t_set.append(temp_t)\n",
    "\n",
    "    for each_t in t_set:\n",
    "        # greater than the split point\n",
    "        temp1_data = data[data[feature].astype(np.float64) > each_t]\n",
    "        # less than the split point\n",
    "        temp2_data = data[data[feature].astype(np.float64) < each_t]\n",
    "        weight1 = len(temp1_data) / len(data)\n",
    "        weight2 = len(temp2_data) / len(data)\n",
    "        temp_ent = (\n",
    "            base_ent - weight1 * get_Ent(temp1_data) - weight2 * get_Ent(temp2_data)\n",
    "        )\n",
    "        t_ent[each_t] = temp_ent\n",
    "    print(\"t_ent:\", t_ent)\n",
    "    final_t = max(t_ent, key=t_ent.get)\n",
    "    return final_t"
   ]
  },
  {
   "cell_type": "code",
   "execution_count": 10,
   "metadata": {},
   "outputs": [
    {
     "name": "stdout",
     "output_type": "stream",
     "text": [
      "t_ent: {158.0: 0.1179805181500242, 159.5: 0.1179805181500242, 161.0: 0.2624392604045631, 162.0: 0.2624392604045631, 163.0: 0.3856047022157598, 163.5: 0.15618502398692893, 164.0: 0.3635040117533678, 165.0: 0.33712865788827096, 167.0: 0.4752766311586692, 170.0: 0.32920899348970845, 172.0: 0.5728389611412551, 172.5: 0.4248356349861979, 173.5: 0.3165383509071513, 174.5: 0.22314940393447813, 176.5: 0.14078143361499595, 179.0: 0.06696192680347068}\n"
     ]
    },
    {
     "data": {
      "text/plain": [
       "172.0"
      ]
     },
     "execution_count": 10,
     "metadata": {},
     "output_type": "execute_result"
    }
   ],
   "source": [
    "final_t = get_splitpoint(data, base_ent, \"height\")\n",
    "final_t"
   ]
  },
  {
   "cell_type": "code",
   "execution_count": 11,
   "metadata": {},
   "outputs": [
    {
     "data": {
      "text/html": [
       "<div>\n",
       "<style scoped>\n",
       "    .dataframe tbody tr th:only-of-type {\n",
       "        vertical-align: middle;\n",
       "    }\n",
       "\n",
       "    .dataframe tbody tr th {\n",
       "        vertical-align: top;\n",
       "    }\n",
       "\n",
       "    .dataframe thead th {\n",
       "        text-align: right;\n",
       "    }\n",
       "</style>\n",
       "<table border=\"1\" class=\"dataframe\">\n",
       "  <thead>\n",
       "    <tr style=\"text-align: right;\">\n",
       "      <th></th>\n",
       "      <th>hair</th>\n",
       "      <th>voice</th>\n",
       "      <th>height</th>\n",
       "      <th>ear_stud</th>\n",
       "      <th>labels</th>\n",
       "    </tr>\n",
       "  </thead>\n",
       "  <tbody>\n",
       "    <tr>\n",
       "      <th>0</th>\n",
       "      <td>long</td>\n",
       "      <td>thick</td>\n",
       "      <td>&gt;172.0</td>\n",
       "      <td>no</td>\n",
       "      <td>man</td>\n",
       "    </tr>\n",
       "    <tr>\n",
       "      <th>1</th>\n",
       "      <td>short</td>\n",
       "      <td>medium</td>\n",
       "      <td>&lt;172.0</td>\n",
       "      <td>no</td>\n",
       "      <td>man</td>\n",
       "    </tr>\n",
       "    <tr>\n",
       "      <th>2</th>\n",
       "      <td>short</td>\n",
       "      <td>thin</td>\n",
       "      <td>&gt;172.0</td>\n",
       "      <td>yes</td>\n",
       "      <td>man</td>\n",
       "    </tr>\n",
       "    <tr>\n",
       "      <th>3</th>\n",
       "      <td>short</td>\n",
       "      <td>thick</td>\n",
       "      <td>&lt;172.0</td>\n",
       "      <td>no</td>\n",
       "      <td>man</td>\n",
       "    </tr>\n",
       "    <tr>\n",
       "      <th>4</th>\n",
       "      <td>long</td>\n",
       "      <td>medium</td>\n",
       "      <td>&lt;172.0</td>\n",
       "      <td>no</td>\n",
       "      <td>man</td>\n",
       "    </tr>\n",
       "    <tr>\n",
       "      <th>5</th>\n",
       "      <td>short</td>\n",
       "      <td>thick</td>\n",
       "      <td>&gt;172.0</td>\n",
       "      <td>no</td>\n",
       "      <td>man</td>\n",
       "    </tr>\n",
       "    <tr>\n",
       "      <th>6</th>\n",
       "      <td>long</td>\n",
       "      <td>thick</td>\n",
       "      <td>&gt;172.0</td>\n",
       "      <td>yes</td>\n",
       "      <td>man</td>\n",
       "    </tr>\n",
       "    <tr>\n",
       "      <th>7</th>\n",
       "      <td>short</td>\n",
       "      <td>thin</td>\n",
       "      <td>&gt;172.0</td>\n",
       "      <td>no</td>\n",
       "      <td>man</td>\n",
       "    </tr>\n",
       "    <tr>\n",
       "      <th>8</th>\n",
       "      <td>long</td>\n",
       "      <td>thin</td>\n",
       "      <td>&lt;172.0</td>\n",
       "      <td>yes</td>\n",
       "      <td>woman</td>\n",
       "    </tr>\n",
       "    <tr>\n",
       "      <th>9</th>\n",
       "      <td>long</td>\n",
       "      <td>medium</td>\n",
       "      <td>&lt;172.0</td>\n",
       "      <td>yes</td>\n",
       "      <td>woman</td>\n",
       "    </tr>\n",
       "    <tr>\n",
       "      <th>10</th>\n",
       "      <td>long</td>\n",
       "      <td>thick</td>\n",
       "      <td>&lt;172.0</td>\n",
       "      <td>yes</td>\n",
       "      <td>woman</td>\n",
       "    </tr>\n",
       "    <tr>\n",
       "      <th>11</th>\n",
       "      <td>short</td>\n",
       "      <td>thin</td>\n",
       "      <td>&lt;172.0</td>\n",
       "      <td>yes</td>\n",
       "      <td>woman</td>\n",
       "    </tr>\n",
       "    <tr>\n",
       "      <th>12</th>\n",
       "      <td>long</td>\n",
       "      <td>thin</td>\n",
       "      <td>&lt;172.0</td>\n",
       "      <td>no</td>\n",
       "      <td>woman</td>\n",
       "    </tr>\n",
       "    <tr>\n",
       "      <th>13</th>\n",
       "      <td>short</td>\n",
       "      <td>medium</td>\n",
       "      <td>&lt;172.0</td>\n",
       "      <td>no</td>\n",
       "      <td>woman</td>\n",
       "    </tr>\n",
       "    <tr>\n",
       "      <th>14</th>\n",
       "      <td>long</td>\n",
       "      <td>thick</td>\n",
       "      <td>&lt;172.0</td>\n",
       "      <td>yes</td>\n",
       "      <td>woman</td>\n",
       "    </tr>\n",
       "    <tr>\n",
       "      <th>15</th>\n",
       "      <td>long</td>\n",
       "      <td>thin</td>\n",
       "      <td>&lt;172.0</td>\n",
       "      <td>no</td>\n",
       "      <td>woman</td>\n",
       "    </tr>\n",
       "    <tr>\n",
       "      <th>16</th>\n",
       "      <td>short</td>\n",
       "      <td>medium</td>\n",
       "      <td>&lt;172.0</td>\n",
       "      <td>yes</td>\n",
       "      <td>woman</td>\n",
       "    </tr>\n",
       "  </tbody>\n",
       "</table>\n",
       "</div>"
      ],
      "text/plain": [
       "     hair   voice  height ear_stud labels\n",
       "0    long   thick  >172.0       no    man\n",
       "1   short  medium  <172.0       no    man\n",
       "2   short    thin  >172.0      yes    man\n",
       "3   short   thick  <172.0       no    man\n",
       "4    long  medium  <172.0       no    man\n",
       "5   short   thick  >172.0       no    man\n",
       "6    long   thick  >172.0      yes    man\n",
       "7   short    thin  >172.0       no    man\n",
       "8    long    thin  <172.0      yes  woman\n",
       "9    long  medium  <172.0      yes  woman\n",
       "10   long   thick  <172.0      yes  woman\n",
       "11  short    thin  <172.0      yes  woman\n",
       "12   long    thin  <172.0       no  woman\n",
       "13  short  medium  <172.0       no  woman\n",
       "14   long   thick  <172.0      yes  woman\n",
       "15   long    thin  <172.0       no  woman\n",
       "16  short  medium  <172.0      yes  woman"
      ]
     },
     "execution_count": 11,
     "metadata": {},
     "output_type": "execute_result"
    }
   ],
   "source": [
    "def choice_1(x, t):\n",
    "    if x > t:\n",
    "        return \">{}\".format(t)\n",
    "    else:\n",
    "        return \"<{}\".format(t)\n",
    "\n",
    "\n",
    "deal_data = data.copy()\n",
    "\n",
    "deal_data[\"height\"] = pd.Series(\n",
    "    map(lambda x: choice_1(int(x), final_t), deal_data[\"height\"])\n",
    ")\n",
    "deal_data"
   ]
  },
  {
   "cell_type": "code",
   "execution_count": 12,
   "metadata": {},
   "outputs": [],
   "source": [
    "def choose_feature(data):\n",
    "\n",
    "    num_features = len(data.columns) - 1\n",
    "    base_ent = get_Ent(data)\n",
    "    best_gain = 0.0  \n",
    "    best_feature = data.columns[0]\n",
    "    for i in range(num_features):  \n",
    "        temp_gain = get_gain(data, base_ent, data.columns[i])  \n",
    "        if temp_gain > best_gain:  \n",
    "            best_gain = temp_gain\n",
    "            best_feature = data.columns[i]\n",
    "            \n",
    "    return best_feature"
   ]
  },
  {
   "cell_type": "code",
   "execution_count": 13,
   "metadata": {},
   "outputs": [
    {
     "data": {
      "text/plain": [
       "'height'"
      ]
     },
     "execution_count": 13,
     "metadata": {},
     "output_type": "execute_result"
    }
   ],
   "source": [
    "choose_feature(deal_data)"
   ]
  },
  {
   "cell_type": "markdown",
   "metadata": {},
   "source": [
    "Construct the tree"
   ]
  },
  {
   "cell_type": "code",
   "execution_count": 14,
   "metadata": {},
   "outputs": [],
   "source": [
    "def create_tree(data):\n",
    "    feature_list = data.columns[:-1].tolist()\n",
    "    label_list = data.iloc[:, -1]\n",
    "    if len(data[\"labels\"].value_counts()) == 1:\n",
    "        leaf_node = data[\"labels\"].mode().values\n",
    "        return leaf_node  \n",
    "    if len(feature_list) == 1:\n",
    "        leaf_node = data[\"labels\"].mode().values\n",
    "        return leaf_node  \n",
    "    best_feature = choose_feature(data) \n",
    "    tree = {best_feature: {}}\n",
    "    feat_values = data[best_feature]\n",
    "    unique_value = set(feat_values)\n",
    "    for value in unique_value:\n",
    "        temp_data = data[data[best_feature] == value]\n",
    "        temp_data = temp_data.drop([best_feature], axis=1)\n",
    "        tree[best_feature][value] = create_tree(temp_data)\n",
    "    return tree"
   ]
  },
  {
   "cell_type": "code",
   "execution_count": 15,
   "metadata": {},
   "outputs": [
    {
     "data": {
      "text/plain": [
       "{'height': {'>172.0': array(['man'], dtype=object),\n",
       "  '<172.0': {'ear_stud': {'no': {'voice': {'medium': array(['man'], dtype=object),\n",
       "      'thick': array(['man'], dtype=object),\n",
       "      'thin': array(['woman'], dtype=object)}},\n",
       "    'yes': array(['woman'], dtype=object)}}}}"
      ]
     },
     "execution_count": 15,
     "metadata": {},
     "output_type": "execute_result"
    }
   ],
   "source": [
    "tree = create_tree(deal_data)\n",
    "tree"
   ]
  },
  {
   "cell_type": "code",
   "execution_count": 64,
   "metadata": {},
   "outputs": [],
   "source": [
    "def classify(tree, test):\n",
    "\n",
    "    first_feature = list(tree.keys())[0] \n",
    "    feature_dict = tree[first_feature]  \n",
    "    labels = test.columns.tolist()\n",
    "    value = test[first_feature][0]\n",
    "    for key in feature_dict.keys():\n",
    "        if value == key:\n",
    "            if type(feature_dict[key]).__name__ == \"dict\":  \n",
    "                class_label = classify(feature_dict[key], test)  \n",
    "            else:\n",
    "                class_label = feature_dict[key]\n",
    "    return class_label"
   ]
  },
  {
   "cell_type": "code",
   "execution_count": 68,
   "metadata": {},
   "outputs": [
    {
     "data": {
      "text/html": [
       "<div>\n",
       "<style scoped>\n",
       "    .dataframe tbody tr th:only-of-type {\n",
       "        vertical-align: middle;\n",
       "    }\n",
       "\n",
       "    .dataframe tbody tr th {\n",
       "        vertical-align: top;\n",
       "    }\n",
       "\n",
       "    .dataframe thead th {\n",
       "        text-align: right;\n",
       "    }\n",
       "</style>\n",
       "<table border=\"1\" class=\"dataframe\">\n",
       "  <thead>\n",
       "    <tr style=\"text-align: right;\">\n",
       "      <th></th>\n",
       "      <th>hair</th>\n",
       "      <th>voice</th>\n",
       "      <th>height</th>\n",
       "      <th>ear_stud</th>\n",
       "    </tr>\n",
       "  </thead>\n",
       "  <tbody>\n",
       "    <tr>\n",
       "      <th>0</th>\n",
       "      <td>long</td>\n",
       "      <td>thick</td>\n",
       "      <td>163</td>\n",
       "      <td>yes</td>\n",
       "    </tr>\n",
       "  </tbody>\n",
       "</table>\n",
       "</div>"
      ],
      "text/plain": [
       "   hair  voice  height ear_stud\n",
       "0  long  thick     163      yes"
      ]
     },
     "execution_count": 68,
     "metadata": {},
     "output_type": "execute_result"
    }
   ],
   "source": [
    "test = pd.DataFrame(\n",
    "    {\"hair\": [\"long\"], \"voice\": [\"thick\"], \"height\": [163], \"ear_stud\": [\"yes\"]}\n",
    ")\n",
    "test"
   ]
  },
  {
   "cell_type": "code",
   "execution_count": 69,
   "metadata": {},
   "outputs": [
    {
     "data": {
      "text/html": [
       "<div>\n",
       "<style scoped>\n",
       "    .dataframe tbody tr th:only-of-type {\n",
       "        vertical-align: middle;\n",
       "    }\n",
       "\n",
       "    .dataframe tbody tr th {\n",
       "        vertical-align: top;\n",
       "    }\n",
       "\n",
       "    .dataframe thead th {\n",
       "        text-align: right;\n",
       "    }\n",
       "</style>\n",
       "<table border=\"1\" class=\"dataframe\">\n",
       "  <thead>\n",
       "    <tr style=\"text-align: right;\">\n",
       "      <th></th>\n",
       "      <th>hair</th>\n",
       "      <th>voice</th>\n",
       "      <th>height</th>\n",
       "      <th>ear_stud</th>\n",
       "    </tr>\n",
       "  </thead>\n",
       "  <tbody>\n",
       "    <tr>\n",
       "      <th>0</th>\n",
       "      <td>long</td>\n",
       "      <td>thick</td>\n",
       "      <td>&lt;172.0</td>\n",
       "      <td>yes</td>\n",
       "    </tr>\n",
       "  </tbody>\n",
       "</table>\n",
       "</div>"
      ],
      "text/plain": [
       "   hair  voice  height ear_stud\n",
       "0  long  thick  <172.0      yes"
      ]
     },
     "execution_count": 69,
     "metadata": {},
     "output_type": "execute_result"
    }
   ],
   "source": [
    "test[\"height\"] = pd.Series(map(lambda x: choice_1(int(x), final_t), test[\"height\"]))\n",
    "test"
   ]
  },
  {
   "cell_type": "code",
   "execution_count": 71,
   "metadata": {},
   "outputs": [
    {
     "data": {
      "text/plain": [
       "array(['woman'], dtype=object)"
      ]
     },
     "execution_count": 71,
     "metadata": {},
     "output_type": "execute_result"
    }
   ],
   "source": [
    "classify(tree, test)"
   ]
  },
  {
   "cell_type": "code",
   "execution_count": null,
   "metadata": {},
   "outputs": [],
   "source": []
  }
 ],
 "metadata": {
  "kernelspec": {
   "display_name": "Python 3",
   "language": "python",
   "name": "python3"
  },
  "language_info": {
   "codemirror_mode": {
    "name": "ipython",
    "version": 3
   },
   "file_extension": ".py",
   "mimetype": "text/x-python",
   "name": "python",
   "nbconvert_exporter": "python",
   "pygments_lexer": "ipython3",
   "version": "3.10.8"
  }
 },
 "nbformat": 4,
 "nbformat_minor": 2
}
