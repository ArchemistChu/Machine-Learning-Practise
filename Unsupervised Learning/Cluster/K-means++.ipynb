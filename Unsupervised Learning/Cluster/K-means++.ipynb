{
 "cells": [
  {
   "cell_type": "code",
   "execution_count": 1,
   "metadata": {},
   "outputs": [],
   "source": [
    "import numpy as np\n",
    "def get_sum_distance(centers,data):\n",
    "    distance_cont = np.array([])\n",
    "    for each_data in data:\n",
    "        distance = np.array([])\n",
    "        for each_center in centers:\n",
    "            distance = np.append(distance,d_euc(each_data,each_center))\n",
    "        lab = np.argmin(distance)\n",
    "        distance_cont = np.append(distance_cont,distance[lab])\n",
    "    return np.sum(distance_cont),distance_cont"
   ]
  },
  {
   "cell_type": "code",
   "execution_count": 2,
   "metadata": {},
   "outputs": [],
   "source": [
    "def get_init_center(data,k):\n",
    "    seed = np.random.RandomState(20)\n",
    "    p = seed.randint(0,len(data))\n",
    "    first_center = data[p]\n",
    "    \n",
    "    center_container = []\n",
    "    center_container.append(first_center)\n",
    "    for i in range(k-1):\n",
    "        sum_distance,distance_cont = get_sum_distance(center_container,data)\n",
    "        r = np.random.randint(0,sum_distance)\n",
    "        for j in range(len(distance_cont)):\n",
    "            r -= distance_cont[j]\n",
    "            if r <= 0:\n",
    "                center_container.append(data[j])\n",
    "                break\n",
    "            else:\n",
    "                pass\n",
    "    return np.array(center_container)"
   ]
  },
  {
   "cell_type": "code",
   "execution_count": null,
   "metadata": {},
   "outputs": [
    {
     "ename": "NameError",
     "evalue": "name 'blobs_plus' is not defined",
     "output_type": "error",
     "traceback": [
      "\u001b[1;31m---------------------------------------------------------------------------\u001b[0m",
      "\u001b[1;31mNameError\u001b[0m                                 Traceback (most recent call last)",
      "Cell \u001b[1;32mIn[3], line 1\u001b[0m\n\u001b[1;32m----> 1\u001b[0m plus_init_center \u001b[38;5;241m=\u001b[39m get_init_center(\u001b[43mblobs_plus\u001b[49m, \u001b[38;5;241m5\u001b[39m)\n\u001b[0;32m      2\u001b[0m plus_init_center\n",
      "\u001b[1;31mNameError\u001b[0m: name 'blobs_plus' is not defined"
     ]
    },
    {
     "ename": "",
     "evalue": "",
     "output_type": "error",
     "traceback": [
      "\u001b[1;31mThe Kernel crashed while executing code in the current cell or a previous cell. \n",
      "\u001b[1;31mPlease review the code in the cell(s) to identify a possible cause of the failure. \n",
      "\u001b[1;31mClick <a href='https://aka.ms/vscodeJupyterKernelCrash'>here</a> for more info. \n",
      "\u001b[1;31mView Jupyter <a href='command:jupyter.viewOutput'>log</a> for further details."
     ]
    }
   ],
   "source": [
    "plus_init_center = get_init_center(blobs_plus, 5)\n",
    "plus_init_center"
   ]
  },
  {
   "cell_type": "code",
   "execution_count": null,
   "metadata": {},
   "outputs": [],
   "source": []
  }
 ],
 "metadata": {
  "kernelspec": {
   "display_name": "Python 3",
   "language": "python",
   "name": "python3"
  },
  "language_info": {
   "codemirror_mode": {
    "name": "ipython",
    "version": 3
   },
   "file_extension": ".py",
   "mimetype": "text/x-python",
   "name": "python",
   "nbconvert_exporter": "python",
   "pygments_lexer": "ipython3",
   "version": "3.12.4"
  }
 },
 "nbformat": 4,
 "nbformat_minor": 2
}
