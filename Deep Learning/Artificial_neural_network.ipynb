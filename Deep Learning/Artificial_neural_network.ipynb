{
 "cells": [
  {
   "cell_type": "markdown",
   "metadata": {},
   "source": [
    "The perceptron is a single layer neural network with simple structure\n",
    "We could combine multiple perceptron togethor to constitute a more complex neural network architecture"
   ]
  },
  {
   "cell_type": "markdown",
   "metadata": {},
   "source": [
    "Activation functions:\n",
    "Sigmoid function:\n",
    "$$\\text{sigmoid}(x) = \\frac{1}{1 + e^{-x}}$$\n",
    "The value is in (0,1)"
   ]
  },
  {
   "cell_type": "markdown",
   "metadata": {},
   "source": [
    "Tanh function:\n",
    "$$\\text{tanh}(x)\\frac{1 - e^{-2x}}{1 + e^{-2x}}$$\n",
    "Similiar to sigmoid but value is in (-1,1)"
   ]
  },
  {
   "cell_type": "markdown",
   "metadata": {},
   "source": [
    "ReLU functiom:\n",
    " Rectified Linear Unit\n",
    " $$\\text{ReLu}(x) = max(0,x)$$"
   ]
  },
  {
   "cell_type": "markdown",
   "metadata": {},
   "source": [
    "Process for Back propagation:"
   ]
  },
  {
   "cell_type": "markdown",
   "metadata": {},
   "source": [
    "1. Calculate the actual output though Forward Propagation:\n",
    "The weighted sum of each node is given by\n",
    "$$\n",
    "    a_j = \\sum{}{}(w_{ij}*x_i)\n",
    "$$\n",
    "where:\n",
    "$w_{i,j}$ is the weights assoicated with the $j^{th}$ input to the $i^{th}$ neuron ,\n",
    "$x_i$ is the value of the $j^{th}$ input,\n",
    "\n",
    "\n",
    "Then we pass the result to the activation function to get the output, which is the value of the node"
   ]
  },
  {
   "cell_type": "markdown",
   "metadata": {},
   "source": [
    "After calculate the final actual output, we compare it with our expected output to get the error value, which is $$\\delta = z - y$$ \n",
    "\n",
    "Where z is the expected output y is the actual output"
   ]
  },
  {
   "cell_type": "markdown",
   "metadata": {},
   "source": [
    "To update the weight of a nerual network, simiilar to perceptron   \n",
    "$$\n",
    "     W \\leftarrow W + \\lambda y_i x_i\n",
    "$$\n",
    "$$\n",
    "     b \\leftarrow b + \\lambda y_i\n",
    "$$\n",
    " we use \n",
    "$\n",
    "    W \\leftarrow W + \\bigtriangleup w_{ij}\n",
    "$\n",
    "where \n",
    "$$\n",
    " \\bigtriangleup w_{ii} = \\eta \\times \\delta_i \\times O_i\n",
    "$$\n",
    "\n",
    "To calculate the $\\delta_i$,\n",
    "We have \n",
    "$$\\delta_i = \\sum{}{}w_{ij}\\delta_j$$\n",
    "\n",
    "\n",
    "Where j is the previous node(from back)"
   ]
  },
  {
   "cell_type": "code",
   "execution_count": 13,
   "metadata": {},
   "outputs": [],
   "source": [
    "def sigmoid(x):\n",
    "    return 1/(1+np.exp(-x))\n",
    "\n",
    "def dev_sigmoid(x):\n",
    "    return sigmoid(x)*(1-sigmoid(x))"
   ]
  },
  {
   "cell_type": "markdown",
   "metadata": {},
   "source": [
    "To implement ANN, we set the input as X, first layer weight be $ W_1 $the second layer $ W_2 $\n",
    "\n",
    "suppose $$ X =  [x_1 x_2] $$\n",
    "$$\n",
    "W_1 = \n",
    "\\begin{bmatrix}\n",
    "W_{11} & W_{12} & W_{13} \\\\\n",
    "W_{14} & W_{15} & W_{16} \\\\\n",
    "\\end{bmatrix}\n",
    "$$\n",
    "$$\n",
    "W_2 = \n",
    "\\begin{bmatrix}\n",
    "W_{21} \\\\\n",
    "W_{22} \\\\\n",
    "W_{23}\n",
    "\n",
    "\\end{bmatrix}\n",
    "$$\n",
    "\n",
    "Let Z be the output of the neuron\n",
    "$$Z = sigmoid(X \\cdot W_1)$$\n",
    "Y be the input layer\n",
    "$$Y = sigmoid(Z \\cdot w_2)$$"
   ]
  },
  {
   "cell_type": "code",
   "execution_count": 14,
   "metadata": {},
   "outputs": [],
   "source": [
    "import numpy as np\n",
    "X = np.array([[1,1]])\n",
    "Y = np.array([[1]])\n",
    "\n",
    "W1 = np.random.rand(2,3)\n",
    "W2 = np.random.rand(3,1)"
   ]
  },
  {
   "cell_type": "code",
   "execution_count": 15,
   "metadata": {},
   "outputs": [
    {
     "data": {
      "text/plain": [
       "array([[0.77499059]])"
      ]
     },
     "execution_count": 15,
     "metadata": {},
     "output_type": "execute_result"
    }
   ],
   "source": [
    "inputlayer = X\n",
    "hiddenlayer = sigmoid(np.dot(inputlayer, W1))\n",
    "outputlayer = sigmoid(np.dot(hiddenlayer, W2))\n",
    "\n",
    "outputlayer"
   ]
  },
  {
   "cell_type": "markdown",
   "metadata": {},
   "source": [
    "Define the input value of neural network be Y, actual value is v\n",
    "The loss function is $$Loss(y,Y) = \\sum{}{}(y-Y)^2$$"
   ]
  },
  {
   "cell_type": "markdown",
   "metadata": {},
   "source": [
    "Then find the gradient $ \\frac{\\partial Loss(y,Y)}{\\partial W_1} $ and $ \\frac{\\partial Loss(y,Y)}{\\partial W_2} $"
   ]
  },
  {
   "cell_type": "markdown",
   "metadata": {},
   "source": [
    "$$\n",
    "\\frac{\\partial Loss(y,Y)}{\\partial W_2} = \n",
    "2(Y-y) * \\bigtriangleup sigmoid(Z \\cdot W_2) \\cdot Z\n",
    "$$\n",
    "$$\n",
    "\\frac{\\partial Loss(y,Y)}{\\partial W_2} = \n",
    "2(Y-y) * \\bigtriangleup sigmoid(Z \\cdot W_2) \\cdot W_2 * \\bigtriangleup sigmoid(X \\cdot W_1) \\cot X\n",
    "$$"
   ]
  },
  {
   "cell_type": "code",
   "execution_count": 16,
   "metadata": {},
   "outputs": [
    {
     "data": {
      "text/plain": [
       "(array([[0.05779379],\n",
       "        [0.06521022],\n",
       "        [0.04797219]]),\n",
       " array([[0.01197109, 0.0074749 , 0.00287664],\n",
       "        [0.01197109, 0.0074749 , 0.00287664]]))"
      ]
     },
     "execution_count": 16,
     "metadata": {},
     "output_type": "execute_result"
    }
   ],
   "source": [
    "dev_W2 = np.dot(\n",
    "    hiddenlayer.T,\n",
    "    (2*(Y - outputlayer) * dev_sigmoid(np.dot(hiddenlayer, W2)))\n",
    ")\n",
    "dev_W1 = np.dot(\n",
    "    inputlayer.T,\n",
    "    (np.dot(2*(Y - outputlayer) * dev_sigmoid(np.dot(hiddenlayer, W2)), W2.T) * dev_sigmoid(np.dot(inputlayer, W1)))\n",
    ")\n",
    "dev_W2,dev_W1"
   ]
  },
  {
   "cell_type": "code",
   "execution_count": 17,
   "metadata": {},
   "outputs": [
    {
     "data": {
      "text/plain": [
       "(array([[0.78021228],\n",
       "        [0.67164911],\n",
       "        [0.14947672]]),\n",
       " array([[0.70334752, 0.63615304, 0.18713647],\n",
       "        [0.32194501, 0.95490436, 0.26511163]]))"
      ]
     },
     "execution_count": 17,
     "metadata": {},
     "output_type": "execute_result"
    }
   ],
   "source": [
    "W1 -= 0.1 * dev_W1\n",
    "W2 -= 0.1 * dev_W2\n",
    "\n",
    "W2,W1"
   ]
  },
  {
   "cell_type": "code",
   "execution_count": 27,
   "metadata": {},
   "outputs": [],
   "source": [
    "#Rewrite all the code above as a Class\n",
    "class ANN:\n",
    "    \n",
    "    def __init__(self,X,y,lrate):\n",
    "        self.inputlayer = X\n",
    "        self.W1 = np.random.rand(self.inputlayer.shape[1],3)\n",
    "        self.W2 = np.random.rand(3,1)\n",
    "        self.y = y\n",
    "        self.lrate = lrate\n",
    "        self.outputlayer = np.zeros(self.y.shape)\n",
    "        \n",
    "    def forward_prop(self):\n",
    "        self.hiddenlayer = sigmoid(np.dot(self.inputlayer, self.W1))\n",
    "        self.outputlayer = sigmoid(np.dot(self.hiddenlayer, self.W2))\n",
    "        \n",
    "    def backward_prop(self):\n",
    "        dev_W2 = np.dot(\n",
    "            self.hiddenlayer.T,\n",
    "            (2*(self.outputlayer -self.y ) * dev_sigmoid(np.dot(self.hiddenlayer, self.W2)))\n",
    "        )\n",
    "        dev_W1 = np.dot(\n",
    "            self.inputlayer.T,\n",
    "            (np.dot(2*(self.outputlayer - self.y) * dev_sigmoid(np.dot(self.hiddenlayer, self.W2)), self.W2.T) * dev_sigmoid(np.dot(self.inputlayer, self.W1)))\n",
    "        )\n",
    "        self.W1 -= self.lrate * dev_W1\n",
    "        self.W2 -= self.lrate * dev_W2\n",
    "        "
   ]
  },
  {
   "cell_type": "code",
   "execution_count": 29,
   "metadata": {},
   "outputs": [
    {
     "name": "stdout",
     "output_type": "stream",
     "text": [
      "The final loss is  [np.float64(155.18195596747302), np.float64(140.93980087273806), np.float64(134.9853029871627), np.float64(133.75841570062494), np.float64(133.49345326331226), np.float64(133.4249384783333), np.float64(133.40484348396012), np.float64(133.39813887862994), np.float64(133.39538694707866), np.float64(133.39385227609017), np.float64(133.39270868349683), np.float64(133.39170037358696), np.float64(133.3907466013846), np.float64(133.3898211786481), np.float64(133.38891508294316), np.float64(133.38802473574032), np.float64(133.38714830535906), np.float64(133.38628453569237), np.float64(133.38543237289966), np.float64(133.38459084474292), np.float64(133.38375902003244), np.float64(133.38293599352335), np.float64(133.3821208789298), np.float64(133.3813128045527), np.float64(133.38051090976307), np.float64(133.3797143417716), np.float64(133.37892225248774), np.float64(133.37813379539298), np.float64(133.37734812238648), np.float64(133.3765643805741), np.float64(133.37578170897368), np.float64(133.3749992351082), np.float64(133.3742160714587), np.float64(133.37343131174467), np.float64(133.37264402699813), np.float64(133.37185326139365), np.float64(133.3710580277929), np.float64(133.37025730295727), np.float64(133.36945002237684), np.float64(133.3686350746571), np.float64(133.36781129539742), np.float64(133.36697746048566), np.float64(133.36613227872311), np.float64(133.3652743836811), np.float64(133.3644023246753), np.float64(133.36351455672647), np.float64(133.36260942935584), np.float64(133.36168517403644), np.float64(133.3607398900947), np.float64(133.3597715288183), np.float64(133.35877787548543), np.float64(133.3577565289777), np.float64(133.35670487857774), np.float64(133.35562007747612), np.float64(133.35449901242075), np.float64(133.35333826882913), np.float64(133.35213409054558), np.float64(133.35088233325513), np.float64(133.34957841035447), np.float64(133.34821722981593), np.float64(133.34679312025224), np.float64(133.34529974397213), np.float64(133.34372999429203), np.float64(133.34207587369764), np.float64(133.34032834858832), np.float64(133.3384771752275), np.float64(133.3365106900768), np.float64(133.33441555580038), np.float64(133.3321764517266), np.float64(133.32977569422906), np.float64(133.3271927680197), np.float64(133.324403743289), np.float64(133.32138054533067), np.float64(133.3180900318026), np.float64(133.31449281669848), np.float64(133.31054175731737), np.float64(133.30617998780886), np.float64(133.30133833525056), np.float64(133.29593188384018), np.float64(133.28985534708752), np.float64(133.28297674634865), np.float64(133.275128642431), np.float64(133.26609576698644), np.float64(133.25559725016814), np.float64(133.24326055816266), np.float64(133.22858240290537), np.float64(133.21086862981144), np.float64(133.18913918252287), np.float64(133.16197317268256), np.float64(133.12724761291855), np.float64(133.081680309332), np.float64(133.01999851157433), np.float64(132.93336900700433), np.float64(132.80635014356034), np.float64(132.61101781989757), np.float64(132.2970518767566), np.float64(131.7853663648481), np.float64(131.01948601187286), np.float64(130.14478557601802), np.float64(129.3977851816599)]\n"
     ]
    },
    {
     "data": {
      "text/plain": [
       "[<matplotlib.lines.Line2D at 0x15a4a666fc0>]"
      ]
     },
     "execution_count": 29,
     "metadata": {},
     "output_type": "execute_result"
    },
    {
     "data": {
      "image/png": "[encoded data removed]",
      "text/plain": [
       "<Figure size 640x480 with 1 Axes>"
      ]
     },
     "metadata": {},
     "output_type": "display_data"
    }
   ],
   "source": [
    "import pandas as pd\n",
    "import matplotlib.pyplot as plt\n",
    "df = pd.read_csv('data.csv')\n",
    "X = df[[\"X0\",\"X1\"]].values\n",
    "y = df[[\"Y\"]].values\n",
    "\n",
    "model = ANN(X,y,0.01)\n",
    "loss = []\n",
    "\n",
    "for i in range(100):\n",
    "    model.forward_prop()\n",
    "    model.backward_prop()\n",
    "    loss.append(np.sum((y - model.outputlayer)**2))\n",
    "print(\"The final loss is \",loss)\n",
    "plt.plot(loss)\n"
   ]
  },
  {
   "cell_type": "code",
   "execution_count": null,
   "metadata": {},
   "outputs": [],
   "source": []
  }
 ],
 "metadata": {
  "kernelspec": {
   "display_name": "Python 3",
   "language": "python",
   "name": "python3"
  },
  "language_info": {
   "codemirror_mode": {
    "name": "ipython",
    "version": 3
   },
   "file_extension": ".py",
   "mimetype": "text/x-python",
   "name": "python",
   "nbconvert_exporter": "python",
   "pygments_lexer": "ipython3",
   "version": "3.12.4"
  }
 },
 "nbformat": 4,
 "nbformat_minor": 2
}
