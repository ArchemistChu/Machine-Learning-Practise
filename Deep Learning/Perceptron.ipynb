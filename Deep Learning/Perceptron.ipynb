{
 "cells": [
  {
   "cell_type": "markdown",
   "metadata": {},
   "source": [
    "Perceptron was introduced by Frank Rosenblatt in 1957 it is the simpleset feedforward neural network and is used in binary classification"
   ]
  },
  {
   "cell_type": "markdown",
   "metadata": {},
   "source": [
    "The work process of perceptron is assign weight to the input node, then after calculating their weigheted sum, we pass it to a sign function\n",
    "$$\n",
    "Sign(x) =\n",
    "\\begin{cases}\n",
    "+1 & \\text{if } x \\geq 0 \\\\\n",
    "-1 & \\text{if } x < 0 \n",
    "\\end{cases}$$ \n"
   ]
  },
  {
   "cell_type": "markdown",
   "metadata": {},
   "source": [
    "for a dividing line, the function is \n",
    "$$\n",
    "{f}(x) = w_{1}x_{1} + w_{2}x_{2} +... w_{n}x_{n} + b = XW + b\n",
    " $$"
   ]
  },
  {
   "cell_type": "markdown",
   "metadata": {},
   "source": [
    "The output function is :\n",
    "$$\n",
    "{f}(x) = sign(X*W + b)\n",
    "$$"
   ]
  },
  {
   "cell_type": "markdown",
   "metadata": {},
   "source": [
    "To find the loss function of the perceptron, we need to find the distance between misclassification point and dividing line\n",
    "\n",
    "The distance between a point and a surface is :\n",
    "$$\n",
    "d = \\frac{1}{\\| {W} \\|} |W * x_{0} + b|\n",
    "$$\n",
    "For a point $(x_{i},y_{i})$ , if $W * x_{0} + b > 0 $, then $$sign(x_{i}*W + b) = 1$$ , the predict of this point is +1, or -1 vice versa."
   ]
  },
  {
   "cell_type": "markdown",
   "metadata": {},
   "source": [
    "For a misclassification point, \n",
    "$$\n",
    "-y_i (W * x_i + b) > 0\n",
    "$$\n",
    "must satisfied"
   ]
  },
  {
   "cell_type": "markdown",
   "metadata": {},
   "source": [
    "Substract the missclassification point into function , we get \n",
    "$$\n",
    "d = -\\frac{1}{\\| {W} \\|} y_i (W * x_i + b)\n",
    "$$"
   ]
  },
  {
   "cell_type": "markdown",
   "metadata": {},
   "source": [
    "As a result, the loss function is :\n",
    "$$L(w, b) = - \\sum_{i=1}^{n} y_i (W * x_i + b)$$"
   ]
  },
  {
   "cell_type": "markdown",
   "metadata": {},
   "source": [
    "To minimize the loss function, we use the Stochastic Gradient Descent, which is an advance method of the gradient descent mentioned in Classification\n",
    "We randomly choose a dividing surface $W_{0},b_{0}$ and use Gradient Descent to constantly minimize the loss function:\n",
    "$$\n",
    "\\text{min}_{W,b}L(W,b) = -\\sum_{x_i \\epsilon M}^{}y_i(W* x_i + b)\n",
    "$$"
   ]
  },
  {
   "cell_type": "markdown",
   "metadata": {},
   "source": [
    "Calucate the partial derivation :\n",
    "$$\n",
    "\\frac{\\partial L(W,b)}{\\partial W} = -\\sum_{x_i \\epsilon M}^{}y_i x_i\n",
    "$$\n",
    "$$\n",
    "\\frac{\\partial L(W,b)}{\\partial b} = -\\sum_{x_i \\epsilon M}^{}y_i \n",
    "$$"
   ]
  },
  {
   "cell_type": "markdown",
   "metadata": {},
   "source": [
    "if $y_i (W * x_i + b) <= 0$ update W and b: \n",
    "$$\n",
    "     W \\leftarrow W + \\lambda y_i x_i\n",
    "$$\n",
    "$$\n",
    "     b \\leftarrow b + \\lambda y_i\n",
    "$$\n",
    "Where $\\lambda $ is the learning rate"
   ]
  },
  {
   "cell_type": "markdown",
   "metadata": {},
   "source": [
    "Implement:"
   ]
  },
  {
   "cell_type": "code",
   "execution_count": 2,
   "metadata": {},
   "outputs": [],
   "source": [
    "from sklearn.utils import shuffle\n",
    "import numpy as np\n",
    "def perceptron_sgd(X,Y,alpha,epochs):\n",
    "    w = np.zeros(len(X[0]))\n",
    "    b = np.zeros(1)\n",
    "    \n",
    "    for t in range(epochs):\n",
    "        X,Y = shuffle(X,Y)\n",
    "        for i,x in enumerate(X):\n",
    "            if (np.dot(X[i],w)+b)*Y[i] <= 0:\n",
    "                w = w + alpha*X[i]*Y[i]\n",
    "                b = b + alpha*Y[i]\n",
    "    return w,b"
   ]
  }
 ],
 "metadata": {
  "kernelspec": {
   "display_name": "Python 3",
   "language": "python",
   "name": "python3"
  },
  "language_info": {
   "codemirror_mode": {
    "name": "ipython",
    "version": 3
   },
   "file_extension": ".py",
   "mimetype": "text/x-python",
   "name": "python",
   "nbconvert_exporter": "python",
   "pygments_lexer": "ipython3",
   "version": "3.12.4"
  }
 },
 "nbformat": 4,
 "nbformat_minor": 2
}
