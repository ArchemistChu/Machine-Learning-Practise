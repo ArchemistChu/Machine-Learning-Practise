{
 "cells": [
  {
   "cell_type": "markdown",
   "metadata": {},
   "source": []
  },
  {
   "cell_type": "code",
   "execution_count": 8,
   "metadata": {},
   "outputs": [
    {
     "data": {
      "text/plain": [
       "((276, 26), (119, 26), (276,), (119,))"
      ]
     },
     "execution_count": 8,
     "metadata": {},
     "output_type": "execute_result"
    }
   ],
   "source": [
    "import pandas as pd\n",
    "from sklearn.model_selection import train_test_split\n",
    "\n",
    "stu_data = pd.read_csv(\"course-14-student.csv\", index_col=0)\n",
    "\n",
    "X_train, X_test, y_train, y_test = train_test_split(\n",
    "    stu_data.iloc[:, :-1], stu_data[\"G3\"], test_size=0.3, random_state=35\n",
    ")\n",
    "\n",
    "X_train.shape, X_test.shape, y_train.shape, y_test.shape"
   ]
  },
  {
   "cell_type": "markdown",
   "metadata": {},
   "source": [
    "sklearn.ensemble.VotingClassifier(estimators,voting = 'hard')\n",
    "\n",
    "\n",
    "voting = 'hard' is the majority voting\n",
    "voting = 'soft' is the weighted voting"
   ]
  },
  {
   "cell_type": "code",
   "execution_count": 13,
   "metadata": {},
   "outputs": [
    {
     "name": "stdout",
     "output_type": "stream",
     "text": [
      "Logistic Regression 0.7647058823529411\n",
      "Decision Tree 0.8487394957983193\n",
      "GaussianNB 0.5294117647058824\n",
      "VotingClassifier: 0.8067226890756303\n"
     ]
    }
   ],
   "source": [
    "from sklearn.linear_model import LogisticRegression\n",
    "from sklearn.naive_bayes import GaussianNB\n",
    "from sklearn.tree import DecisionTreeClassifier\n",
    "from sklearn.ensemble import VotingClassifier\n",
    "\n",
    "lf1 = LogisticRegression(solver = 'lbfgs',multi_class='auto',max_iter=1000,random_state=35)\n",
    "lf2 = DecisionTreeClassifier(random_state=35)\n",
    "lf3 = GaussianNB()\n",
    "eclf = VotingClassifier(estimators=[(\"lr\", lf1), (\"dt\", lf2), (\"nb\", lf3)], voting=\"soft\")\n",
    "for clf,label in zip([lf1,lf2,lf3,eclf],['Logistic Regression','Decision Tree','GaussianNB','VotingClassifier:']):\n",
    "    clf.fit(X_train, y_train)\n",
    "    score = clf.score(X_test, y_test)\n",
    "    print(label,score)\n"
   ]
  },
  {
   "cell_type": "code",
   "execution_count": null,
   "metadata": {},
   "outputs": [],
   "source": []
  }
 ],
 "metadata": {
  "kernelspec": {
   "display_name": "Python 3",
   "language": "python",
   "name": "python3"
  },
  "language_info": {
   "codemirror_mode": {
    "name": "ipython",
    "version": 3
   },
   "file_extension": ".py",
   "mimetype": "text/x-python",
   "name": "python",
   "nbconvert_exporter": "python",
   "pygments_lexer": "ipython3",
   "version": "3.10.8"
  }
 },
 "nbformat": 4,
 "nbformat_minor": 2
}
