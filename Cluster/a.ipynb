{
 "cells": [
  {
   "cell_type": "code",
   "execution_count": null,
   "metadata": {},
   "outputs": [
    {
     "data": {
      "text/latex": [
       "$\\displaystyle 2 \\cdot  \\begin{bmatrix} 1 \\\\ -2 \\\\ \\end{bmatrix} -1 \\cdot \\begin{bmatrix} 2 \\\\ -3 \\\\ \\end{bmatrix} +1 \\cdot \\begin{bmatrix} -3 \\\\ 1 \\\\ \\end{bmatrix} -1 \\cdot \\begin{bmatrix} 1 \\\\ -1 \\\\ \\end{bmatrix}= \\begin{bmatrix} -4 \\\\ 1 \\\\ \\end{bmatrix}$"
      ],
      "text/plain": [
       "<IPython.core.display.Math object>"
      ]
     },
     "metadata": {},
     "output_type": "display_data"
    },
    {
     "ename": "",
     "evalue": "",
     "output_type": "error",
     "traceback": [
      "\u001b[1;31mThe Kernel crashed while executing code in the current cell or a previous cell. \n",
      "\u001b[1;31mPlease review the code in the cell(s) to identify a possible cause of the failure. \n",
      "\u001b[1;31mClick <a href='https://aka.ms/vscodeJupyterKernelCrash'>here</a> for more info. \n",
      "\u001b[1;31mView Jupyter <a href='command:jupyter.viewOutput'>log</a> for further details."
     ]
    }
   ],
   "source": [
    "from IPython.display import display, Math, Latex\n",
    "display(Math(r'2 \\cdot  \\begin{bmatrix} 1 \\\\ -2 \\\\ \\end{bmatrix} -1 \\cdot \\begin{bmatrix} 2 \\\\ -3 \\\\ \\end{bmatrix} +1 \\cdot \\begin{bmatrix} -3 \\\\ 1 \\\\ \\end{bmatrix} -1 \\cdot \\begin{bmatrix} 1 \\\\ -1 \\\\ \\end{bmatrix}= \\begin{bmatrix} -4 \\\\ 1 \\\\ \\end{bmatrix}'))"
   ]
  },
  {
   "cell_type": "code",
   "execution_count": null,
   "metadata": {},
   "outputs": [],
   "source": []
  }
 ],
 "metadata": {
  "kernelspec": {
   "display_name": "Python 3",
   "language": "python",
   "name": "python3"
  },
  "language_info": {
   "codemirror_mode": {
    "name": "ipython",
    "version": 3
   },
   "file_extension": ".py",
   "mimetype": "text/x-python",
   "name": "python",
   "nbconvert_exporter": "python",
   "pygments_lexer": "ipython3",
   "version": "3.12.4"
  }
 },
 "nbformat": 4,
 "nbformat_minor": 2
}
